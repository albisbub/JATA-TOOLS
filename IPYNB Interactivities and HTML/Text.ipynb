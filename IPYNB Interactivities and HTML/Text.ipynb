{
  "nbformat": 4,
  "nbformat_minor": 0,
  "metadata": {
    "colab": {
      "name": " 3-Textual Analysis for Archive MetaData or Journal Articles.ipynb",
      "provenance": [],
      "collapsed_sections": [],
      "toc_visible": true
    },
    "kernelspec": {
      "name": "python3",
      "display_name": "Python 3"
    }
  },
  "cells": [
    {
      "cell_type": "markdown",
      "metadata": {
        "id": "fZxDIV4VMNCO",
        "colab_type": "text"
      },
      "source": [
        "# Textual Analysis for Archive MetaData or Journal Articles\n"
      ]
    },
    {
      "cell_type": "code",
      "metadata": {
        "id": "6ofGPnTA8l9L",
        "colab_type": "code",
        "colab": {}
      },
      "source": [
        "%%capture\n",
        "!pip install JATA\n",
        "!pip install altair\n",
        "from Text import *\n",
        "from CJH import CJH_Archives\n",
        "import altair as alt"
      ],
      "execution_count": 1,
      "outputs": []
    },
    {
      "cell_type": "markdown",
      "metadata": {
        "id": "EIwM-ebBMRh1",
        "colab_type": "text"
      },
      "source": [
        "# Choosing the Data Source: PDFs or Meta-Data"
      ]
    },
    {
      "cell_type": "markdown",
      "metadata": {
        "id": "9gWCX4DtQmj7",
        "colab_type": "text"
      },
      "source": [
        "## Importing Meta Data"
      ]
    },
    {
      "cell_type": "markdown",
      "metadata": {
        "id": "97t682XXTll6",
        "colab_type": "text"
      },
      "source": [
        "**Run the following cell if you want to work with meta-data. If not, skip over it.**"
      ]
    },
    {
      "cell_type": "code",
      "metadata": {
        "id": "fGXpEiMT9qPl",
        "colab_type": "code",
        "colab": {
          "base_uri": "https://localhost:8080/",
          "height": 1000
        },
        "outputId": "ac38033c-9105-49c0-8da4-274c60da728e"
      },
      "source": [
        "collections= CJH_Archives('AJHS').get_meta_data('collections', 1, 2)"
      ],
      "execution_count": 2,
      "outputs": [
        {
          "output_type": "stream",
          "text": [
            "Creating CJHA Scraper Object for AJHS\n",
            "Scraping Collections (Finding Aids)\n",
            "Scraping Archive Index for Entry Links 1\n",
            "Scraping Archive Index for Entry Links 2\n",
            "Number of Objects Extracted:  60\n",
            "Scraping entry meta data...\n",
            "Record:  1 https://archives.cjh.org/repositories/3/resources/15236 \n",
            "      The White Jew Newspaper\n",
            "    \n",
            "Record:  2 https://archives.cjh.org/repositories/3/resources/13248 \n",
            "      Synagogue Council of America Records\n",
            "    \n",
            "Record:  3 https://archives.cjh.org/repositories/3/resources/15562 \n",
            "      Admiral Lewis Lichtenstein Strauss Papers\n",
            "    \n",
            "Record:  4 https://archives.cjh.org/repositories/3/resources/15566 \n",
            "      Meyer Greenberg Papers\n",
            "    \n",
            "Record:  5 https://archives.cjh.org/repositories/3/resources/15570 \n",
            "      Louis Lipsky Papers\n",
            "    \n",
            "Record:  6 https://archives.cjh.org/repositories/3/resources/15623 \n",
            "      Noah Benevolent Society Records\n",
            "    \n",
            "Record:  7 https://archives.cjh.org/repositories/3/resources/15557 \n",
            "      Leo Hershkowitz Collection of Court Records\n",
            "    \n",
            "Record:  8 https://archives.cjh.org/repositories/3/resources/15770 \n",
            "      E. Michael Bluestone Papers\n",
            "    \n",
            "Record:  9 https://archives.cjh.org/repositories/3/resources/18294 \n",
            "      Oscar M Lifshutz (1916-1990) Papers\n",
            "    \n",
            "Record:  10 https://archives.cjh.org/repositories/3/resources/18296 \n",
            "      Norman Hapgood (1868-1937) Papers\n",
            "    \n",
            "Record:  11 https://archives.cjh.org/repositories/3/resources/18357 \n",
            "      Jonah J. Goldstein Papers\n",
            "    \n",
            "Record:  12 https://archives.cjh.org/repositories/3/resources/18366 \n",
            "      Melvin Urofsky collection\n",
            "    \n",
            "Record:  13 https://archives.cjh.org/repositories/3/resources/19663 \n",
            "      Jewish Music Forum (New York, N.Y.) records\n",
            "    \n",
            "Record:  14 https://archives.cjh.org/repositories/3/resources/5998 \n",
            "      Aaron Kramer (1921-1997) Papers\n",
            "    \n",
            "Record:  15 https://archives.cjh.org/repositories/3/resources/6010 \n",
            "      Chaim Weizmann Papers\n",
            "    \n",
            "Record:  16 https://archives.cjh.org/repositories/3/resources/6113 \n",
            "      Lawrence Sampter collection\n",
            "    \n",
            "Record:  17 https://archives.cjh.org/repositories/3/resources/6114 \n",
            "      Emanuel de la Motta prayerbook collection\n",
            "    \n",
            "Record:  18 https://archives.cjh.org/repositories/3/resources/6115 \n",
            "      Israel Goldberg papers\n",
            "    \n",
            "Record:  19 https://archives.cjh.org/repositories/3/resources/6116 \n",
            "      M.S. Polack collection\n",
            "    \n",
            "Record:  20 https://archives.cjh.org/repositories/3/resources/6117 \n",
            "      David Lloyd George Paris Peace Conference autograph album\n",
            "    \n",
            "Record:  21 https://archives.cjh.org/repositories/3/resources/6118 \n",
            "      Henry Hochheimer marriage record book\n",
            "    \n",
            "Record:  22 https://archives.cjh.org/repositories/3/resources/6119 \n",
            "      Judah family (New York City and Richmond) papers\n",
            "    \n",
            "Record:  23 https://archives.cjh.org/repositories/3/resources/6196 \n",
            "      Baron family papers\n",
            "    \n",
            "Record:  24 https://archives.cjh.org/repositories/3/resources/6197 \n",
            "      Lewisohn family genealogy\n",
            "    \n",
            "Record:  25 https://archives.cjh.org/repositories/3/resources/6198 \n",
            "      Ewenczyk family genealogy collection\n",
            "    \n",
            "Record:  26 https://archives.cjh.org/repositories/3/resources/6199 \n",
            "      Sulzberger family collection\n",
            "    \n",
            "Record:  27 https://archives.cjh.org/repositories/3/resources/6200 \n",
            "      Moses Alexander autograph\n",
            "    \n",
            "Record:  28 https://archives.cjh.org/repositories/3/resources/6201 \n",
            "      Sholem Asch autograph photograph\n",
            "    \n",
            "Record:  29 https://archives.cjh.org/repositories/3/resources/6202 \n",
            "      Simon Bamburger collection\n",
            "    \n",
            "Record:  30 https://archives.cjh.org/repositories/3/resources/6203 \n",
            "      Simon Guggenheimer letter\n",
            "    \n",
            "Record:  31 https://archives.cjh.org/repositories/3/resources/6204 \n",
            "      Henry M. Moos correspondence\n",
            "    \n",
            "Record:  32 https://archives.cjh.org/repositories/3/resources/6205 \n",
            "      Joseph Austrian autobiographical and historical sketches\n",
            "    \n",
            "Record:  33 https://archives.cjh.org/repositories/3/resources/6206 \n",
            "      Samuel Lawrence scrapbook\n",
            "    \n",
            "Record:  34 https://archives.cjh.org/repositories/3/resources/6225 \n",
            "      Adolph J. Sabath papers\n",
            "    \n",
            "Record:  35 https://archives.cjh.org/repositories/3/resources/6226 \n",
            "      Roy H. Millenson collection of Senator Jacob K. Javits\n",
            "    \n",
            "Record:  36 https://archives.cjh.org/repositories/3/resources/6227 \n",
            "      Kuttenplum family legal records\n",
            "    \n",
            "Record:  37 https://archives.cjh.org/repositories/3/resources/6228 \n",
            "      Selkind family Yiddish postcards\n",
            "    \n",
            "Record:  38 https://archives.cjh.org/repositories/3/resources/6229 \n",
            "      John Gellman papers\n",
            "    \n",
            "Record:  39 https://archives.cjh.org/repositories/3/resources/6230 \n",
            "      Elliott S. Shapiro biographical materials\n",
            "    \n",
            "Record:  40 https://archives.cjh.org/repositories/3/resources/6231 \n",
            "      Joan Breslow Woodbine colony reference materials\n",
            "    \n",
            "Record:  41 https://archives.cjh.org/repositories/3/resources/6233 \n",
            "      Halpern family papers\n",
            "    \n",
            "Record:  42 https://archives.cjh.org/repositories/3/resources/6234 \n",
            "      Blu Greenberg papers\n",
            "    \n",
            "Record:  43 https://archives.cjh.org/repositories/3/resources/6236 \n",
            "      Ellen Norman Stern, Collection of Elie Wiesel newsclippings\n",
            "    \n",
            "Record:  44 https://archives.cjh.org/repositories/3/resources/6237 \n",
            "      Saralea Zohar Aaron papers\n",
            "    \n",
            "Record:  45 https://archives.cjh.org/repositories/3/resources/6238 \n",
            "      Vivian White Soboleski papers\n",
            "    \n",
            "Record:  46 https://archives.cjh.org/repositories/3/resources/6120 \n",
            "      Judah family (New York, Montreal, Indiana) papers\n",
            "    \n",
            "Record:  47 https://archives.cjh.org/repositories/3/resources/6121 \n",
            "      Esther Levy estate inventory\n",
            "    \n",
            "Record:  48 https://archives.cjh.org/repositories/3/resources/6137 \n",
            "      Solomon Eudovich papers\n",
            "    \n",
            "Record:  49 https://archives.cjh.org/repositories/3/resources/6139 \n",
            "      Abendanone family papers\n",
            "    \n",
            "Record:  50 https://archives.cjh.org/repositories/3/resources/6140 \n",
            "      Mark Levy estate inventory\n",
            "    \n",
            "Record:  51 https://archives.cjh.org/repositories/3/resources/6141 \n",
            "      Ehrenreich family papers\n",
            "    \n",
            "Record:  52 https://archives.cjh.org/repositories/3/resources/6142 \n",
            "      Selman A. Waksman papers\n",
            "    \n",
            "Record:  53 https://archives.cjh.org/repositories/3/resources/6143 \n",
            "      Martin Van Buren papers\n",
            "    \n",
            "Record:  54 https://archives.cjh.org/repositories/3/resources/6145 \n",
            "      Stephen Wise papers\n",
            "    \n",
            "Record:  55 https://archives.cjh.org/repositories/3/resources/6146 \n",
            "      Philip Slomovitz United Hebrew Schools of Detroit collection\n",
            "    \n",
            "Record:  56 https://archives.cjh.org/repositories/3/resources/6147 \n",
            "      Louis Arthur Ungar papers\n",
            "    \n",
            "Record:  57 https://archives.cjh.org/repositories/3/resources/6148 \n",
            "      Morris Rosenfeld papers\n",
            "    \n",
            "Record:  58 https://archives.cjh.org/repositories/3/resources/6149 \n",
            "      Herman W. Block papers\n",
            "    \n",
            "Record:  59 https://archives.cjh.org/repositories/3/resources/6150 \n",
            "      Peter Gouled papers\n",
            "    \n",
            "Record:  60 https://archives.cjh.org/repositories/3/resources/6151 \n",
            "      Meier Steinbrink papers\n",
            "    \n"
          ],
          "name": "stdout"
        }
      ]
    },
    {
      "cell_type": "markdown",
      "metadata": {
        "id": "Bt4O8gS5fjeG",
        "colab_type": "text"
      },
      "source": [
        "Finding aid descriptions are set as default but you can pick any column name from the imported data. You may also want to experiment with records data!"
      ]
    },
    {
      "cell_type": "code",
      "metadata": {
        "id": "WHO-xWVmQjw0",
        "colab_type": "code",
        "colab": {
          "base_uri": "https://localhost:8080/",
          "height": 54
        },
        "outputId": "7db09a98-30e6-4ecb-991e-7da8587ba26f"
      },
      "source": [
        "#Set inital quotes df.\n",
        "df_quotes = collections\n",
        "li_quotes = df_quotes['Finding Aid & Administrative Information'].tolist()\n",
        "stringV = li_quotes\n",
        "print(\"Number of Rows\", len(li_quotes))\n",
        "a = ' '.join(stringV)\n",
        "b_meta = wordninja.split(a)\n",
        "print(len(b_meta))"
      ],
      "execution_count": 3,
      "outputs": [
        {
          "output_type": "stream",
          "text": [
            "Number of Rows 60\n",
            "5814\n"
          ],
          "name": "stdout"
        }
      ]
    },
    {
      "cell_type": "markdown",
      "metadata": {
        "id": "qthe_OE8fxGf",
        "colab_type": "text"
      },
      "source": [
        "All possible fields we could analyze:"
      ]
    },
    {
      "cell_type": "code",
      "metadata": {
        "id": "W3h0RoEdfvY_",
        "colab_type": "code",
        "colab": {
          "base_uri": "https://localhost:8080/",
          "height": 146
        },
        "outputId": "294dcb9c-f729-4bcc-d223-8c825bd3a2ff"
      },
      "source": [
        "df_quotes.columns"
      ],
      "execution_count": 4,
      "outputs": [
        {
          "output_type": "execute_result",
          "data": {
            "text/plain": [
              "Index(['Additional Description', 'Creator', 'Dates', 'Extent',\n",
              "       'Finding Aid & Administrative Information', 'Language of Materials',\n",
              "       'Link', 'Name', 'Physical Storage Information', 'Related Names',\n",
              "       'Repository Details', 'Scope and Content Note', 'Subjects', 'Use Terms',\n",
              "       'Access Terms'],\n",
              "      dtype='object')"
            ]
          },
          "metadata": {
            "tags": []
          },
          "execution_count": 4
        }
      ]
    },
    {
      "cell_type": "markdown",
      "metadata": {
        "id": "cio4AAuxMdqr",
        "colab_type": "text"
      },
      "source": [
        "# Parsing and Converting a Group of PDFS to Plain Text"
      ]
    },
    {
      "cell_type": "markdown",
      "metadata": {
        "id": "Nj52_hefMaYE",
        "colab_type": "text"
      },
      "source": [
        "## Considerations for analyzing this medium\n",
        "The step that poses the most issues when analyzing journal articles or academic papers is converting the file from a pdf to plain text. A pdf has a lot of other information on each page other than the content of the actual text. Think page numbers, citation caveats, margin notes, or tables and graphs. \n"
      ]
    },
    {
      "cell_type": "markdown",
      "metadata": {
        "id": "RVgxtPLrlIIP",
        "colab_type": "text"
      },
      "source": [
        "## Load the article text from our parsed data"
      ]
    },
    {
      "cell_type": "markdown",
      "metadata": {
        "id": "AiDmyUP5TfD7",
        "colab_type": "text"
      },
      "source": [
        "***Set the variable in the following sell to True if you want to work with pdfs, if not, leave it be. Load your pdfs into the content file on the left***"
      ]
    },
    {
      "cell_type": "code",
      "metadata": {
        "id": "n0t8ycgwQTd1",
        "colab_type": "code",
        "colab": {}
      },
      "source": [
        "working_with_pdfs = False"
      ],
      "execution_count": 5,
      "outputs": []
    },
    {
      "cell_type": "code",
      "metadata": {
        "id": "twRJodduiumC",
        "colab_type": "code",
        "colab": {}
      },
      "source": [
        "if working_with_pdfs:\n",
        "  fileDF = parse_all_pdfs_in_curr_dir()\n",
        "  #Set inital quotes df.\n",
        "  df_quotes = fileDF\n",
        "\n",
        "  li_quotes = df_quotes['Text'].tolist()\n",
        "  stringV = li_quotes\n",
        "  print(\"Number of Articles\", len(li_quotes))\n",
        "\n",
        "  a = ' '.join(stringV)\n",
        "\n",
        "  b_pdf = wordninja.split(a)\n",
        "  print(len(b_pdf))\n",
        "else:\n",
        "  pass"
      ],
      "execution_count": 6,
      "outputs": []
    },
    {
      "cell_type": "markdown",
      "metadata": {
        "id": "z0IDuv36ebxq",
        "colab_type": "text"
      },
      "source": [
        "# Tokenize sentences and words, remove stopwords, use stemmer & lemmatizer\n",
        "\n",
        "First, a note on the difference between Stemming vs Lemmatization:\n",
        "\n",
        "* Stemming: Trying to shorten a word with simple regex rules\n",
        "\n",
        "* Lemmatization: Trying to find the root word with linguistics rules (with the use of regex rules)"
      ]
    },
    {
      "cell_type": "markdown",
      "metadata": {
        "id": "Zlwrxzj4ebx4",
        "colab_type": "text"
      },
      "source": [
        "## Process results, find the most popular lemmatized words and group results by Part of Speech (POS)"
      ]
    },
    {
      "cell_type": "code",
      "metadata": {
        "id": "PV-dkSXigkq5",
        "colab_type": "code",
        "colab": {
          "base_uri": "https://localhost:8080/",
          "height": 365
        },
        "outputId": "b65e0bc1-d1fc-4d78-9761-9aede5fd3abe"
      },
      "source": [
        "df_words = stopStemLem(li_quotes)"
      ],
      "execution_count": 7,
      "outputs": [
        {
          "output_type": "stream",
          "text": [
            "df_token_lists.head(5):\n",
            "       0      1   2    3        4          5          6          7             8        9       10      11         12      13       14        15      16         17        18      19         20      21      22        23        24           25           26          27        28    29           30            31           32            33           34           35            36            37      38            39      40           41            42           43        44           45           46    47           48         49          50         51          52       53         54              55        56            57          58          59      60         61          62         63   64    65       66          67              68     69            70     71          72       73          74         75          76          77    78          79          80          81          82          83        84          85        86       87       88           89       90           91           92        93    94          95       96          97        98         99       100      101       102     103         104         105         106         107      108         109      110   111       112     113         114      115         116      117         118      119      120      121        122   123     124     125   126     127   128   129     130     131        132     133        134   135     136\n",
            "0  title  guide  to  the    white        jew  newspaper                   august                                    i  status       in  progress  author  processed        by   tanya      elder    date                    language           of  description     english    script    of  description         latin     language            of  description         note   description            is      in       english           repository       details   repository   details         part           of   the     american     jewish  historical    society  repository     http                    ajhsorg   contact                                  west      th     street         new       york   ny         united      states       inquiries               cjhorg   None        None     None        None       None        None        None  None        None        None        None        None        None      None        None      None     None     None         None     None         None         None      None  None        None     None        None      None       None      None     None      None    None        None        None        None        None     None        None     None  None      None    None        None     None        None     None        None     None     None     None       None  None    None    None  None    None  None  None    None    None       None    None       None  None    None\n",
            "1  title  guide  to  the  records         of        the  synagogue       council       of  america                                       undated                                               i  status      in  progress    author    processed           by       tanya     elder  date            a                                 language           of  description  undetermined        script      of   description    code          for  undetermined       script  language           of  description  note  description         is          in    english              edition  statement            this   version           was     derived        from  scaxml   revision  statements      march                 ead     updated              by  tanya         elder         repository  details  repository    details        part          of   the    american      jewish  historical     society  repository      http               ajhsorg  contact                           west           th       street       new  york          ny               united    states  inquiries             cjhorg      None    None        None        None        None        None     None        None     None  None      None    None        None     None        None     None        None     None     None     None       None  None    None    None  None    None  None  None    None    None       None    None       None  None    None\n",
            "2  title  guide  to  the   papers         of    admiral      lewis  lichtenstein  strauss                                                      p  status         in  progress  author  processed      by    mark         a                 raider         date               october           language            of  description  undetermined       script           of   description          code     for  undetermined  script     language            of  description      note  description           is    in      english                edition  statement        this  version        was         derived      from  llstraussxml    revision  statements   april                         converted   to   ead                              revised     as  llstraussxml     by       tanya    elder                removed  deprecated    elements   and  attributes                 updated  repository       codes                 added  language    codes               changed  doctype  declaration                    etc           january                       entities    removed      from      ead   finding     aid              repository     details  repository  details        part       of   the  american  jewish  historical  society  repository     http              ajhsorg  contact                      west      th  street   new    york    ny        united  states  inquiries             cjhorg  None    None\n",
            "3  title  guide  to  the    meyer  greenberg     papers    undated                               p  status  completed  author  finding       aid     was    created        by  rachel  alexandra  tutera    date                      description        rules  describing  archives                  a       content     standard      language           of  description       english        script      of   description   latin     language            of  description      note  description           is    in      english                sponsor         as        part       of        the            leon      levy      archival  processing  initiative               made    possible         by  the  leon     levy  foundation                   this    collection    was   processed       by      rachel  alexandra      tutera        with   the  assistance          of       katie   rovanpera              revision  statements      june                         ehyman            postaspace    migration   cleanup        repository  details  repository   details       part        of      the  american  jewish  historical     society  repository        http              ajhsorg  contact                    west          th   street         new     york          ny            united   states  inquiries        cjhorg    None  None    None  None  None    None    None       None    None       None  None    None\n",
            "4  title  guide  to  the   papers         of      louis     lipsky                                            undated                          p  status         in  progress  author  processed      by  louise  sandberg      date                  november              language    of  description  undetermined       script            of  description         code           for  undetermined  script      language      of  description          note  description        is           in      english            edition  statement        this    version         was  derived       from  louislipskyxml  revision    statements       april                      converted          to        ead             revised          as  louislipskyxml     by         tanya  elder              removed  deprecated   elements         and  attributes           updated  repository       codes                   added  language       codes            changed  doctype  declaration               removed  boilerplate  entities               etc              january                       entities  removed      from     ead     finding         aid              repository  details  repository  details  part        of     the    american   jewish  historical  society  repository     http           ajhsorg    contact                  west    th  street   new  york      ny             united  states  inquiries        cjhorg\n",
            "\n",
            "\n",
            "df_lem_strings.head():\n",
            "                                                                                                                                                                                                                                                                                                                                                                                                                                                                                                                                                                                                                                                                                                                                                                                             lem quote\n",
            "0                                                                                                                                                                                                                                                                                                                                                                                          title guide - - white jew newspaper - august - - - - status - progress author process - tanya elder date - - language - description english script - description latin language - description note description - - english - repository detail repository detail part - - american jewish historical society repository http - ajhsorg contact - - west - street new york - - united state inquiry - cjhorg\n",
            "1                                                                                                                                                                                                                            title guide - - record - - synagogue council - america - - - - undated - - - - - status - progress author process - tanya elder date - - - language - description undetermined script - description code - undetermined script language - description note description - - english - edition statement - version - derive - scaxml revision statement march - - ead update - tanya elder - repository detail repository detail part - - american jewish historical society repository http - ajhsorg contact - - west - street new york - - united state inquiry - cjhorg\n",
            "2                       title guide - - paper - admiral lewis lichtenstein strauss - - - - - - status - progress author process - mark - - raider date - october - language - description undetermined script - description code - undetermined script language - description note description - - english - edition statement - version - derive - llstraussxml revision statement april - - convert - ead - - revise - llstraussxml - tanya elder - remove deprecate element - attribute - update repository code - add language code - change doctype declaration - etc - january - - entity remove - ead find aid - repository detail repository detail part - - american jewish historical society repository http - ajhsorg contact - - west - street new york - - united state inquiry - cjhorg\n",
            "3                                                 title guide - - meyer greenberg paper undated - - - status complete author find aid - create - rachel alexandra tutera date - - description rule describe archive - - content standard language - description english script - description latin language - description note description - - english - sponsor - part - - leon levy archival processing initiative - make possible - - leon levy foundation - - collection - process - rachel alexandra tutera - - assistance - katie rovanpera - revision statement june - - ehyman - postaspace migration cleanup - repository detail repository detail part - - american jewish historical society repository http - ajhsorg contact - - west - street new york - - united state inquiry - cjhorg\n",
            "4  title guide - - paper - louis lipsky - - - - undated - - - status - progress author process - louise sandberg date - november - language - description undetermined script - description code - undetermined script language - description note description - - english - edition statement - version - derive - louislipskyxml revision statement april - - convert - ead - - revise - louislipskyxml - tanya elder - remove deprecate element - attribute - update repository code - add language code - change doctype declaration - remove boilerplate entity - etc - january - - entity remove - ead find aid - repository detail repository detail part - - american jewish historical society repository http - ajhsorg contact - - west - street new york - - united state inquiry - cjhorg\n",
            "Group by lemmatized words, add count and sort:\n",
            "Get just the first row in each lemmatized group\n"
          ],
          "name": "stdout"
        }
      ]
    },
    {
      "cell_type": "code",
      "metadata": {
        "id": "6CqM0UVkebx5",
        "colab_type": "code",
        "colab": {
          "base_uri": "https://localhost:8080/",
          "height": 235
        },
        "outputId": "4e0fc7a6-d893-43e4-a596-7679735f94b4"
      },
      "source": [
        "print(\"df_words.head(10):\")\n",
        "print(df_words.head(10))"
      ],
      "execution_count": 8,
      "outputs": [
        {
          "output_type": "stream",
          "text": [
            "df_words.head(10):\n",
            "           lem  index        token        stem pos  counts\n",
            "0  description     14  description    descript  NN     217\n",
            "1   repository     24   repository  repositori  NN     182\n",
            "2     language     13     language     languag  NN     122\n",
            "3       detail     25      details      detail  NN     120\n",
            "4      english     15      english     english  JJ     116\n",
            "5          aid    166          aid         aid  NN     106\n",
            "6         find    165      finding        find  VB     106\n",
            "7         part     28         part        part  NN      67\n",
            "8       jewish     30       jewish      jewish  NN      65\n",
            "9       script     16       script      script  NN      64\n"
          ],
          "name": "stdout"
        }
      ]
    },
    {
      "cell_type": "markdown",
      "metadata": {
        "id": "F9opwMTrTBzd",
        "colab_type": "text"
      },
      "source": [
        "## Frequency of Lemmatized Words Grouped by Parts of Speech."
      ]
    },
    {
      "cell_type": "code",
      "metadata": {
        "id": "0U2xnsJFg9RC",
        "colab_type": "code",
        "colab": {
          "base_uri": "https://localhost:8080/",
          "height": 1000
        },
        "outputId": "b947604b-ce16-42a1-d32e-2915748f8286"
      },
      "source": [
        "#hide-input\n",
        "df_words.head(50)"
      ],
      "execution_count": 9,
      "outputs": [
        {
          "output_type": "execute_result",
          "data": {
            "text/html": [
              "<div>\n",
              "<style scoped>\n",
              "    .dataframe tbody tr th:only-of-type {\n",
              "        vertical-align: middle;\n",
              "    }\n",
              "\n",
              "    .dataframe tbody tr th {\n",
              "        vertical-align: top;\n",
              "    }\n",
              "\n",
              "    .dataframe thead th {\n",
              "        text-align: right;\n",
              "    }\n",
              "</style>\n",
              "<table border=\"1\" class=\"dataframe\">\n",
              "  <thead>\n",
              "    <tr style=\"text-align: right;\">\n",
              "      <th></th>\n",
              "      <th>lem</th>\n",
              "      <th>index</th>\n",
              "      <th>token</th>\n",
              "      <th>stem</th>\n",
              "      <th>pos</th>\n",
              "      <th>counts</th>\n",
              "    </tr>\n",
              "  </thead>\n",
              "  <tbody>\n",
              "    <tr>\n",
              "      <th>0</th>\n",
              "      <td>description</td>\n",
              "      <td>14</td>\n",
              "      <td>description</td>\n",
              "      <td>descript</td>\n",
              "      <td>NN</td>\n",
              "      <td>217</td>\n",
              "    </tr>\n",
              "    <tr>\n",
              "      <th>1</th>\n",
              "      <td>repository</td>\n",
              "      <td>24</td>\n",
              "      <td>repository</td>\n",
              "      <td>repositori</td>\n",
              "      <td>NN</td>\n",
              "      <td>182</td>\n",
              "    </tr>\n",
              "    <tr>\n",
              "      <th>2</th>\n",
              "      <td>language</td>\n",
              "      <td>13</td>\n",
              "      <td>language</td>\n",
              "      <td>languag</td>\n",
              "      <td>NN</td>\n",
              "      <td>122</td>\n",
              "    </tr>\n",
              "    <tr>\n",
              "      <th>3</th>\n",
              "      <td>detail</td>\n",
              "      <td>25</td>\n",
              "      <td>details</td>\n",
              "      <td>detail</td>\n",
              "      <td>NN</td>\n",
              "      <td>120</td>\n",
              "    </tr>\n",
              "    <tr>\n",
              "      <th>4</th>\n",
              "      <td>english</td>\n",
              "      <td>15</td>\n",
              "      <td>english</td>\n",
              "      <td>english</td>\n",
              "      <td>JJ</td>\n",
              "      <td>116</td>\n",
              "    </tr>\n",
              "    <tr>\n",
              "      <th>5</th>\n",
              "      <td>aid</td>\n",
              "      <td>166</td>\n",
              "      <td>aid</td>\n",
              "      <td>aid</td>\n",
              "      <td>NN</td>\n",
              "      <td>106</td>\n",
              "    </tr>\n",
              "    <tr>\n",
              "      <th>6</th>\n",
              "      <td>find</td>\n",
              "      <td>165</td>\n",
              "      <td>finding</td>\n",
              "      <td>find</td>\n",
              "      <td>VB</td>\n",
              "      <td>106</td>\n",
              "    </tr>\n",
              "    <tr>\n",
              "      <th>7</th>\n",
              "      <td>part</td>\n",
              "      <td>28</td>\n",
              "      <td>part</td>\n",
              "      <td>part</td>\n",
              "      <td>NN</td>\n",
              "      <td>67</td>\n",
              "    </tr>\n",
              "    <tr>\n",
              "      <th>8</th>\n",
              "      <td>jewish</td>\n",
              "      <td>30</td>\n",
              "      <td>jewish</td>\n",
              "      <td>jewish</td>\n",
              "      <td>NN</td>\n",
              "      <td>65</td>\n",
              "    </tr>\n",
              "    <tr>\n",
              "      <th>9</th>\n",
              "      <td>script</td>\n",
              "      <td>16</td>\n",
              "      <td>script</td>\n",
              "      <td>script</td>\n",
              "      <td>NN</td>\n",
              "      <td>64</td>\n",
              "    </tr>\n",
              "    <tr>\n",
              "      <th>10</th>\n",
              "      <td>new</td>\n",
              "      <td>39</td>\n",
              "      <td>new</td>\n",
              "      <td>new</td>\n",
              "      <td>JJ</td>\n",
              "      <td>63</td>\n",
              "    </tr>\n",
              "    <tr>\n",
              "      <th>11</th>\n",
              "      <td>york</td>\n",
              "      <td>40</td>\n",
              "      <td>york</td>\n",
              "      <td>york</td>\n",
              "      <td>NN</td>\n",
              "      <td>63</td>\n",
              "    </tr>\n",
              "    <tr>\n",
              "      <th>12</th>\n",
              "      <td>note</td>\n",
              "      <td>21</td>\n",
              "      <td>note</td>\n",
              "      <td>note</td>\n",
              "      <td>NN</td>\n",
              "      <td>62</td>\n",
              "    </tr>\n",
              "    <tr>\n",
              "      <th>13</th>\n",
              "      <td>united</td>\n",
              "      <td>41</td>\n",
              "      <td>united</td>\n",
              "      <td>unit</td>\n",
              "      <td>JJ</td>\n",
              "      <td>61</td>\n",
              "    </tr>\n",
              "    <tr>\n",
              "      <th>14</th>\n",
              "      <td>historical</td>\n",
              "      <td>31</td>\n",
              "      <td>historical</td>\n",
              "      <td>histor</td>\n",
              "      <td>JJ</td>\n",
              "      <td>61</td>\n",
              "    </tr>\n",
              "    <tr>\n",
              "      <th>15</th>\n",
              "      <td>society</td>\n",
              "      <td>32</td>\n",
              "      <td>society</td>\n",
              "      <td>societi</td>\n",
              "      <td>NN</td>\n",
              "      <td>61</td>\n",
              "    </tr>\n",
              "    <tr>\n",
              "      <th>16</th>\n",
              "      <td>cjhorg</td>\n",
              "      <td>44</td>\n",
              "      <td>cjhorg</td>\n",
              "      <td>cjhorg</td>\n",
              "      <td>NN</td>\n",
              "      <td>60</td>\n",
              "    </tr>\n",
              "    <tr>\n",
              "      <th>17</th>\n",
              "      <td>street</td>\n",
              "      <td>38</td>\n",
              "      <td>street</td>\n",
              "      <td>street</td>\n",
              "      <td>NN</td>\n",
              "      <td>60</td>\n",
              "    </tr>\n",
              "    <tr>\n",
              "      <th>18</th>\n",
              "      <td>status</td>\n",
              "      <td>6</td>\n",
              "      <td>status</td>\n",
              "      <td>statu</td>\n",
              "      <td>NN</td>\n",
              "      <td>60</td>\n",
              "    </tr>\n",
              "    <tr>\n",
              "      <th>19</th>\n",
              "      <td>date</td>\n",
              "      <td>12</td>\n",
              "      <td>date</td>\n",
              "      <td>date</td>\n",
              "      <td>NN</td>\n",
              "      <td>60</td>\n",
              "    </tr>\n",
              "    <tr>\n",
              "      <th>20</th>\n",
              "      <td>author</td>\n",
              "      <td>8</td>\n",
              "      <td>author</td>\n",
              "      <td>author</td>\n",
              "      <td>NN</td>\n",
              "      <td>60</td>\n",
              "    </tr>\n",
              "    <tr>\n",
              "      <th>21</th>\n",
              "      <td>title</td>\n",
              "      <td>0</td>\n",
              "      <td>title</td>\n",
              "      <td>titl</td>\n",
              "      <td>NN</td>\n",
              "      <td>60</td>\n",
              "    </tr>\n",
              "    <tr>\n",
              "      <th>22</th>\n",
              "      <td>west</td>\n",
              "      <td>37</td>\n",
              "      <td>west</td>\n",
              "      <td>west</td>\n",
              "      <td>NN</td>\n",
              "      <td>60</td>\n",
              "    </tr>\n",
              "    <tr>\n",
              "      <th>23</th>\n",
              "      <td>contact</td>\n",
              "      <td>36</td>\n",
              "      <td>contact</td>\n",
              "      <td>contact</td>\n",
              "      <td>NN</td>\n",
              "      <td>60</td>\n",
              "    </tr>\n",
              "    <tr>\n",
              "      <th>24</th>\n",
              "      <td>american</td>\n",
              "      <td>29</td>\n",
              "      <td>american</td>\n",
              "      <td>american</td>\n",
              "      <td>JJ</td>\n",
              "      <td>60</td>\n",
              "    </tr>\n",
              "    <tr>\n",
              "      <th>25</th>\n",
              "      <td>inquiry</td>\n",
              "      <td>43</td>\n",
              "      <td>inquiries</td>\n",
              "      <td>inquiri</td>\n",
              "      <td>NN</td>\n",
              "      <td>60</td>\n",
              "    </tr>\n",
              "    <tr>\n",
              "      <th>26</th>\n",
              "      <td>ajhsorg</td>\n",
              "      <td>35</td>\n",
              "      <td>ajhsorg</td>\n",
              "      <td>ajhsorg</td>\n",
              "      <td>NN</td>\n",
              "      <td>60</td>\n",
              "    </tr>\n",
              "    <tr>\n",
              "      <th>27</th>\n",
              "      <td>http</td>\n",
              "      <td>34</td>\n",
              "      <td>http</td>\n",
              "      <td>http</td>\n",
              "      <td>NN</td>\n",
              "      <td>60</td>\n",
              "    </tr>\n",
              "    <tr>\n",
              "      <th>28</th>\n",
              "      <td>state</td>\n",
              "      <td>42</td>\n",
              "      <td>states</td>\n",
              "      <td>state</td>\n",
              "      <td>NN</td>\n",
              "      <td>60</td>\n",
              "    </tr>\n",
              "    <tr>\n",
              "      <th>29</th>\n",
              "      <td>guide</td>\n",
              "      <td>1</td>\n",
              "      <td>guide</td>\n",
              "      <td>guid</td>\n",
              "      <td>NN</td>\n",
              "      <td>59</td>\n",
              "    </tr>\n",
              "    <tr>\n",
              "      <th>30</th>\n",
              "      <td>latin</td>\n",
              "      <td>18</td>\n",
              "      <td>latin</td>\n",
              "      <td>latin</td>\n",
              "      <td>NN</td>\n",
              "      <td>56</td>\n",
              "    </tr>\n",
              "    <tr>\n",
              "      <th>31</th>\n",
              "      <td>write</td>\n",
              "      <td>605</td>\n",
              "      <td>written</td>\n",
              "      <td>written</td>\n",
              "      <td>VB</td>\n",
              "      <td>50</td>\n",
              "    </tr>\n",
              "    <tr>\n",
              "      <th>32</th>\n",
              "      <td>create</td>\n",
              "      <td>199</td>\n",
              "      <td>created</td>\n",
              "      <td>creat</td>\n",
              "      <td>VB</td>\n",
              "      <td>48</td>\n",
              "    </tr>\n",
              "    <tr>\n",
              "      <th>33</th>\n",
              "      <td>marceadajhsxsl</td>\n",
              "      <td>783</td>\n",
              "      <td>marceadajhsxsl</td>\n",
              "      <td>marceadajhsxsl</td>\n",
              "      <td>NN</td>\n",
              "      <td>47</td>\n",
              "    </tr>\n",
              "    <tr>\n",
              "      <th>34</th>\n",
              "      <td>statement</td>\n",
              "      <td>73</td>\n",
              "      <td>statement</td>\n",
              "      <td>statement</td>\n",
              "      <td>NN</td>\n",
              "      <td>37</td>\n",
              "    </tr>\n",
              "    <tr>\n",
              "      <th>35</th>\n",
              "      <td>progress</td>\n",
              "      <td>7</td>\n",
              "      <td>progress</td>\n",
              "      <td>progress</td>\n",
              "      <td>NN</td>\n",
              "      <td>33</td>\n",
              "    </tr>\n",
              "    <tr>\n",
              "      <th>36</th>\n",
              "      <td>revision</td>\n",
              "      <td>77</td>\n",
              "      <td>revision</td>\n",
              "      <td>revis</td>\n",
              "      <td>NN</td>\n",
              "      <td>32</td>\n",
              "    </tr>\n",
              "    <tr>\n",
              "      <th>37</th>\n",
              "      <td>paper</td>\n",
              "      <td>107</td>\n",
              "      <td>papers</td>\n",
              "      <td>paper</td>\n",
              "      <td>NN</td>\n",
              "      <td>30</td>\n",
              "    </tr>\n",
              "    <tr>\n",
              "      <th>38</th>\n",
              "      <td>undated</td>\n",
              "      <td>51</td>\n",
              "      <td>undated</td>\n",
              "      <td>undat</td>\n",
              "      <td>JJ</td>\n",
              "      <td>28</td>\n",
              "    </tr>\n",
              "    <tr>\n",
              "      <th>39</th>\n",
              "      <td>archive</td>\n",
              "      <td>207</td>\n",
              "      <td>archives</td>\n",
              "      <td>archiv</td>\n",
              "      <td>NN</td>\n",
              "      <td>28</td>\n",
              "    </tr>\n",
              "    <tr>\n",
              "      <th>40</th>\n",
              "      <td>standard</td>\n",
              "      <td>209</td>\n",
              "      <td>standard</td>\n",
              "      <td>standard</td>\n",
              "      <td>NN</td>\n",
              "      <td>27</td>\n",
              "    </tr>\n",
              "    <tr>\n",
              "      <th>41</th>\n",
              "      <td>content</td>\n",
              "      <td>208</td>\n",
              "      <td>content</td>\n",
              "      <td>content</td>\n",
              "      <td>NN</td>\n",
              "      <td>27</td>\n",
              "    </tr>\n",
              "    <tr>\n",
              "      <th>42</th>\n",
              "      <td>describe</td>\n",
              "      <td>206</td>\n",
              "      <td>describing</td>\n",
              "      <td>describ</td>\n",
              "      <td>VB</td>\n",
              "      <td>27</td>\n",
              "    </tr>\n",
              "    <tr>\n",
              "      <th>43</th>\n",
              "      <td>complete</td>\n",
              "      <td>195</td>\n",
              "      <td>completed</td>\n",
              "      <td>complet</td>\n",
              "      <td>VB</td>\n",
              "      <td>27</td>\n",
              "    </tr>\n",
              "    <tr>\n",
              "      <th>44</th>\n",
              "      <td>cleanup</td>\n",
              "      <td>247</td>\n",
              "      <td>cleanup</td>\n",
              "      <td>cleanup</td>\n",
              "      <td>NN</td>\n",
              "      <td>27</td>\n",
              "    </tr>\n",
              "    <tr>\n",
              "      <th>45</th>\n",
              "      <td>rule</td>\n",
              "      <td>205</td>\n",
              "      <td>rules</td>\n",
              "      <td>rule</td>\n",
              "      <td>NN</td>\n",
              "      <td>27</td>\n",
              "    </tr>\n",
              "    <tr>\n",
              "      <th>46</th>\n",
              "      <td>migration</td>\n",
              "      <td>246</td>\n",
              "      <td>migration</td>\n",
              "      <td>migrat</td>\n",
              "      <td>NN</td>\n",
              "      <td>27</td>\n",
              "    </tr>\n",
              "    <tr>\n",
              "      <th>47</th>\n",
              "      <td>ehyman</td>\n",
              "      <td>244</td>\n",
              "      <td>ehyman</td>\n",
              "      <td>ehyman</td>\n",
              "      <td>NN</td>\n",
              "      <td>26</td>\n",
              "    </tr>\n",
              "    <tr>\n",
              "      <th>48</th>\n",
              "      <td>postaspace</td>\n",
              "      <td>245</td>\n",
              "      <td>postaspace</td>\n",
              "      <td>postaspac</td>\n",
              "      <td>NN</td>\n",
              "      <td>26</td>\n",
              "    </tr>\n",
              "    <tr>\n",
              "      <th>49</th>\n",
              "      <td>april</td>\n",
              "      <td>140</td>\n",
              "      <td>april</td>\n",
              "      <td>april</td>\n",
              "      <td>NN</td>\n",
              "      <td>26</td>\n",
              "    </tr>\n",
              "  </tbody>\n",
              "</table>\n",
              "</div>"
            ],
            "text/plain": [
              "               lem  index           token            stem pos  counts\n",
              "0      description     14     description        descript  NN     217\n",
              "1       repository     24      repository      repositori  NN     182\n",
              "2         language     13        language         languag  NN     122\n",
              "3           detail     25         details          detail  NN     120\n",
              "4          english     15         english         english  JJ     116\n",
              "5              aid    166             aid             aid  NN     106\n",
              "6             find    165         finding            find  VB     106\n",
              "7             part     28            part            part  NN      67\n",
              "8           jewish     30          jewish          jewish  NN      65\n",
              "9           script     16          script          script  NN      64\n",
              "10             new     39             new             new  JJ      63\n",
              "11            york     40            york            york  NN      63\n",
              "12            note     21            note            note  NN      62\n",
              "13          united     41          united            unit  JJ      61\n",
              "14      historical     31      historical          histor  JJ      61\n",
              "15         society     32         society         societi  NN      61\n",
              "16          cjhorg     44          cjhorg          cjhorg  NN      60\n",
              "17          street     38          street          street  NN      60\n",
              "18          status      6          status           statu  NN      60\n",
              "19            date     12            date            date  NN      60\n",
              "20          author      8          author          author  NN      60\n",
              "21           title      0           title            titl  NN      60\n",
              "22            west     37            west            west  NN      60\n",
              "23         contact     36         contact         contact  NN      60\n",
              "24        american     29        american        american  JJ      60\n",
              "25         inquiry     43       inquiries         inquiri  NN      60\n",
              "26         ajhsorg     35         ajhsorg         ajhsorg  NN      60\n",
              "27            http     34            http            http  NN      60\n",
              "28           state     42          states           state  NN      60\n",
              "29           guide      1           guide            guid  NN      59\n",
              "30           latin     18           latin           latin  NN      56\n",
              "31           write    605         written         written  VB      50\n",
              "32          create    199         created           creat  VB      48\n",
              "33  marceadajhsxsl    783  marceadajhsxsl  marceadajhsxsl  NN      47\n",
              "34       statement     73       statement       statement  NN      37\n",
              "35        progress      7        progress        progress  NN      33\n",
              "36        revision     77        revision           revis  NN      32\n",
              "37           paper    107          papers           paper  NN      30\n",
              "38         undated     51         undated           undat  JJ      28\n",
              "39         archive    207        archives          archiv  NN      28\n",
              "40        standard    209        standard        standard  NN      27\n",
              "41         content    208         content         content  NN      27\n",
              "42        describe    206      describing         describ  VB      27\n",
              "43        complete    195       completed         complet  VB      27\n",
              "44         cleanup    247         cleanup         cleanup  NN      27\n",
              "45            rule    205           rules            rule  NN      27\n",
              "46       migration    246       migration          migrat  NN      27\n",
              "47          ehyman    244          ehyman          ehyman  NN      26\n",
              "48      postaspace    245      postaspace       postaspac  NN      26\n",
              "49           april    140           april           april  NN      26"
            ]
          },
          "metadata": {
            "tags": []
          },
          "execution_count": 9
        }
      ]
    },
    {
      "cell_type": "markdown",
      "metadata": {
        "id": "MV1LUFHZW_fp",
        "colab_type": "text"
      },
      "source": [
        "## Top 10 words per Part Of Speech (POS)"
      ]
    },
    {
      "cell_type": "code",
      "metadata": {
        "id": "-Ok5CPdqW_qW",
        "colab_type": "code",
        "colab": {}
      },
      "source": [
        "df_words = df_words[['lem', 'pos', 'counts']].head(200)\n",
        "dfList_pos = format_stopstemlem(df_words)"
      ],
      "execution_count": 10,
      "outputs": []
    },
    {
      "cell_type": "markdown",
      "metadata": {
        "id": "gMDSOu_SgbR8",
        "colab_type": "text"
      },
      "source": [
        "### Nouns"
      ]
    },
    {
      "cell_type": "code",
      "metadata": {
        "id": "9z_Kj69_fggX",
        "colab_type": "code",
        "colab": {
          "base_uri": "https://localhost:8080/",
          "height": 348
        },
        "outputId": "cef51177-884b-4384-aa6a-9265d8fa74b4"
      },
      "source": [
        "#hide-input\n",
        "dfList_pos[0]"
      ],
      "execution_count": 11,
      "outputs": [
        {
          "output_type": "execute_result",
          "data": {
            "text/html": [
              "<div>\n",
              "<style scoped>\n",
              "    .dataframe tbody tr th:only-of-type {\n",
              "        vertical-align: middle;\n",
              "    }\n",
              "\n",
              "    .dataframe tbody tr th {\n",
              "        vertical-align: top;\n",
              "    }\n",
              "\n",
              "    .dataframe thead th {\n",
              "        text-align: right;\n",
              "    }\n",
              "</style>\n",
              "<table border=\"1\" class=\"dataframe\">\n",
              "  <thead>\n",
              "    <tr style=\"text-align: right;\">\n",
              "      <th></th>\n",
              "      <th>index</th>\n",
              "      <th>lem</th>\n",
              "      <th>pos</th>\n",
              "      <th>counts</th>\n",
              "    </tr>\n",
              "  </thead>\n",
              "  <tbody>\n",
              "    <tr>\n",
              "      <th>0</th>\n",
              "      <td>0</td>\n",
              "      <td>description</td>\n",
              "      <td>NN</td>\n",
              "      <td>217</td>\n",
              "    </tr>\n",
              "    <tr>\n",
              "      <th>1</th>\n",
              "      <td>1</td>\n",
              "      <td>repository</td>\n",
              "      <td>NN</td>\n",
              "      <td>182</td>\n",
              "    </tr>\n",
              "    <tr>\n",
              "      <th>2</th>\n",
              "      <td>2</td>\n",
              "      <td>language</td>\n",
              "      <td>NN</td>\n",
              "      <td>122</td>\n",
              "    </tr>\n",
              "    <tr>\n",
              "      <th>3</th>\n",
              "      <td>3</td>\n",
              "      <td>detail</td>\n",
              "      <td>NN</td>\n",
              "      <td>120</td>\n",
              "    </tr>\n",
              "    <tr>\n",
              "      <th>4</th>\n",
              "      <td>5</td>\n",
              "      <td>aid</td>\n",
              "      <td>NN</td>\n",
              "      <td>106</td>\n",
              "    </tr>\n",
              "    <tr>\n",
              "      <th>5</th>\n",
              "      <td>7</td>\n",
              "      <td>part</td>\n",
              "      <td>NN</td>\n",
              "      <td>67</td>\n",
              "    </tr>\n",
              "    <tr>\n",
              "      <th>6</th>\n",
              "      <td>8</td>\n",
              "      <td>jewish</td>\n",
              "      <td>NN</td>\n",
              "      <td>65</td>\n",
              "    </tr>\n",
              "    <tr>\n",
              "      <th>7</th>\n",
              "      <td>9</td>\n",
              "      <td>script</td>\n",
              "      <td>NN</td>\n",
              "      <td>64</td>\n",
              "    </tr>\n",
              "    <tr>\n",
              "      <th>8</th>\n",
              "      <td>11</td>\n",
              "      <td>york</td>\n",
              "      <td>NN</td>\n",
              "      <td>63</td>\n",
              "    </tr>\n",
              "    <tr>\n",
              "      <th>9</th>\n",
              "      <td>12</td>\n",
              "      <td>note</td>\n",
              "      <td>NN</td>\n",
              "      <td>62</td>\n",
              "    </tr>\n",
              "  </tbody>\n",
              "</table>\n",
              "</div>"
            ],
            "text/plain": [
              "   index          lem pos  counts\n",
              "0      0  description  NN     217\n",
              "1      1   repository  NN     182\n",
              "2      2     language  NN     122\n",
              "3      3       detail  NN     120\n",
              "4      5          aid  NN     106\n",
              "5      7         part  NN      67\n",
              "6      8       jewish  NN      65\n",
              "7      9       script  NN      64\n",
              "8     11         york  NN      63\n",
              "9     12         note  NN      62"
            ]
          },
          "metadata": {
            "tags": []
          },
          "execution_count": 11
        }
      ]
    },
    {
      "cell_type": "markdown",
      "metadata": {
        "id": "M-yvqvZ1gZy2",
        "colab_type": "text"
      },
      "source": [
        "### Adjectives"
      ]
    },
    {
      "cell_type": "code",
      "metadata": {
        "id": "vhmaXGCWgYu0",
        "colab_type": "code",
        "colab": {
          "base_uri": "https://localhost:8080/",
          "height": 348
        },
        "outputId": "9e663644-7f85-48c4-b005-8ff0d5120180"
      },
      "source": [
        "dfList_pos[1]"
      ],
      "execution_count": 12,
      "outputs": [
        {
          "output_type": "execute_result",
          "data": {
            "text/html": [
              "<div>\n",
              "<style scoped>\n",
              "    .dataframe tbody tr th:only-of-type {\n",
              "        vertical-align: middle;\n",
              "    }\n",
              "\n",
              "    .dataframe tbody tr th {\n",
              "        vertical-align: top;\n",
              "    }\n",
              "\n",
              "    .dataframe thead th {\n",
              "        text-align: right;\n",
              "    }\n",
              "</style>\n",
              "<table border=\"1\" class=\"dataframe\">\n",
              "  <thead>\n",
              "    <tr style=\"text-align: right;\">\n",
              "      <th></th>\n",
              "      <th>index</th>\n",
              "      <th>lem</th>\n",
              "      <th>pos</th>\n",
              "      <th>counts</th>\n",
              "    </tr>\n",
              "  </thead>\n",
              "  <tbody>\n",
              "    <tr>\n",
              "      <th>0</th>\n",
              "      <td>4</td>\n",
              "      <td>english</td>\n",
              "      <td>JJ</td>\n",
              "      <td>116</td>\n",
              "    </tr>\n",
              "    <tr>\n",
              "      <th>1</th>\n",
              "      <td>10</td>\n",
              "      <td>new</td>\n",
              "      <td>JJ</td>\n",
              "      <td>63</td>\n",
              "    </tr>\n",
              "    <tr>\n",
              "      <th>2</th>\n",
              "      <td>13</td>\n",
              "      <td>united</td>\n",
              "      <td>JJ</td>\n",
              "      <td>61</td>\n",
              "    </tr>\n",
              "    <tr>\n",
              "      <th>3</th>\n",
              "      <td>14</td>\n",
              "      <td>historical</td>\n",
              "      <td>JJ</td>\n",
              "      <td>61</td>\n",
              "    </tr>\n",
              "    <tr>\n",
              "      <th>4</th>\n",
              "      <td>24</td>\n",
              "      <td>american</td>\n",
              "      <td>JJ</td>\n",
              "      <td>60</td>\n",
              "    </tr>\n",
              "    <tr>\n",
              "      <th>5</th>\n",
              "      <td>38</td>\n",
              "      <td>undated</td>\n",
              "      <td>JJ</td>\n",
              "      <td>28</td>\n",
              "    </tr>\n",
              "    <tr>\n",
              "      <th>6</th>\n",
              "      <td>56</td>\n",
              "      <td>consolidated</td>\n",
              "      <td>JJ</td>\n",
              "      <td>10</td>\n",
              "    </tr>\n",
              "    <tr>\n",
              "      <th>7</th>\n",
              "      <td>58</td>\n",
              "      <td>mixed</td>\n",
              "      <td>JJ</td>\n",
              "      <td>10</td>\n",
              "    </tr>\n",
              "    <tr>\n",
              "      <th>8</th>\n",
              "      <td>63</td>\n",
              "      <td>physical</td>\n",
              "      <td>JJ</td>\n",
              "      <td>10</td>\n",
              "    </tr>\n",
              "    <tr>\n",
              "      <th>9</th>\n",
              "      <td>66</td>\n",
              "      <td>undetermined</td>\n",
              "      <td>JJ</td>\n",
              "      <td>8</td>\n",
              "    </tr>\n",
              "  </tbody>\n",
              "</table>\n",
              "</div>"
            ],
            "text/plain": [
              "   index           lem pos  counts\n",
              "0      4       english  JJ     116\n",
              "1     10           new  JJ      63\n",
              "2     13        united  JJ      61\n",
              "3     14    historical  JJ      61\n",
              "4     24      american  JJ      60\n",
              "5     38       undated  JJ      28\n",
              "6     56  consolidated  JJ      10\n",
              "7     58         mixed  JJ      10\n",
              "8     63      physical  JJ      10\n",
              "9     66  undetermined  JJ       8"
            ]
          },
          "metadata": {
            "tags": []
          },
          "execution_count": 12
        }
      ]
    },
    {
      "cell_type": "markdown",
      "metadata": {
        "id": "8ieh7Jw3gcI_",
        "colab_type": "text"
      },
      "source": [
        "### Verbs"
      ]
    },
    {
      "cell_type": "code",
      "metadata": {
        "id": "rPFYK-dFgdTO",
        "colab_type": "code",
        "colab": {
          "base_uri": "https://localhost:8080/",
          "height": 348
        },
        "outputId": "11be7cb3-7895-4a67-8b71-df673f21a0e9"
      },
      "source": [
        "dfList_pos[2]"
      ],
      "execution_count": 13,
      "outputs": [
        {
          "output_type": "execute_result",
          "data": {
            "text/html": [
              "<div>\n",
              "<style scoped>\n",
              "    .dataframe tbody tr th:only-of-type {\n",
              "        vertical-align: middle;\n",
              "    }\n",
              "\n",
              "    .dataframe tbody tr th {\n",
              "        vertical-align: top;\n",
              "    }\n",
              "\n",
              "    .dataframe thead th {\n",
              "        text-align: right;\n",
              "    }\n",
              "</style>\n",
              "<table border=\"1\" class=\"dataframe\">\n",
              "  <thead>\n",
              "    <tr style=\"text-align: right;\">\n",
              "      <th></th>\n",
              "      <th>index</th>\n",
              "      <th>lem</th>\n",
              "      <th>pos</th>\n",
              "      <th>counts</th>\n",
              "    </tr>\n",
              "  </thead>\n",
              "  <tbody>\n",
              "    <tr>\n",
              "      <th>0</th>\n",
              "      <td>6</td>\n",
              "      <td>find</td>\n",
              "      <td>VB</td>\n",
              "      <td>106</td>\n",
              "    </tr>\n",
              "    <tr>\n",
              "      <th>1</th>\n",
              "      <td>31</td>\n",
              "      <td>write</td>\n",
              "      <td>VB</td>\n",
              "      <td>50</td>\n",
              "    </tr>\n",
              "    <tr>\n",
              "      <th>2</th>\n",
              "      <td>32</td>\n",
              "      <td>create</td>\n",
              "      <td>VB</td>\n",
              "      <td>48</td>\n",
              "    </tr>\n",
              "    <tr>\n",
              "      <th>3</th>\n",
              "      <td>42</td>\n",
              "      <td>describe</td>\n",
              "      <td>VB</td>\n",
              "      <td>27</td>\n",
              "    </tr>\n",
              "    <tr>\n",
              "      <th>4</th>\n",
              "      <td>43</td>\n",
              "      <td>complete</td>\n",
              "      <td>VB</td>\n",
              "      <td>27</td>\n",
              "    </tr>\n",
              "    <tr>\n",
              "      <th>5</th>\n",
              "      <td>57</td>\n",
              "      <td>process</td>\n",
              "      <td>VB</td>\n",
              "      <td>10</td>\n",
              "    </tr>\n",
              "    <tr>\n",
              "      <th>6</th>\n",
              "      <td>68</td>\n",
              "      <td>make</td>\n",
              "      <td>VB</td>\n",
              "      <td>8</td>\n",
              "    </tr>\n",
              "    <tr>\n",
              "      <th>7</th>\n",
              "      <td>71</td>\n",
              "      <td>add</td>\n",
              "      <td>VB</td>\n",
              "      <td>6</td>\n",
              "    </tr>\n",
              "    <tr>\n",
              "      <th>8</th>\n",
              "      <td>73</td>\n",
              "      <td>remove</td>\n",
              "      <td>VB</td>\n",
              "      <td>6</td>\n",
              "    </tr>\n",
              "    <tr>\n",
              "      <th>9</th>\n",
              "      <td>78</td>\n",
              "      <td>derive</td>\n",
              "      <td>VB</td>\n",
              "      <td>5</td>\n",
              "    </tr>\n",
              "  </tbody>\n",
              "</table>\n",
              "</div>"
            ],
            "text/plain": [
              "   index       lem pos  counts\n",
              "0      6      find  VB     106\n",
              "1     31     write  VB      50\n",
              "2     32    create  VB      48\n",
              "3     42  describe  VB      27\n",
              "4     43  complete  VB      27\n",
              "5     57   process  VB      10\n",
              "6     68      make  VB       8\n",
              "7     71       add  VB       6\n",
              "8     73    remove  VB       6\n",
              "9     78    derive  VB       5"
            ]
          },
          "metadata": {
            "tags": []
          },
          "execution_count": 13
        }
      ]
    },
    {
      "cell_type": "markdown",
      "metadata": {
        "id": "Qa1ofWEky9Dd",
        "colab_type": "text"
      },
      "source": [
        "### Adverb"
      ]
    },
    {
      "cell_type": "code",
      "metadata": {
        "id": "NWsGMf4rgevX",
        "colab_type": "code",
        "colab": {
          "base_uri": "https://localhost:8080/",
          "height": 48
        },
        "outputId": "cc62b88e-61fa-495f-b177-ce6c248b4e99"
      },
      "source": [
        "dfList_pos[3]"
      ],
      "execution_count": 14,
      "outputs": [
        {
          "output_type": "execute_result",
          "data": {
            "text/html": [
              "<div>\n",
              "<style scoped>\n",
              "    .dataframe tbody tr th:only-of-type {\n",
              "        vertical-align: middle;\n",
              "    }\n",
              "\n",
              "    .dataframe tbody tr th {\n",
              "        vertical-align: top;\n",
              "    }\n",
              "\n",
              "    .dataframe thead th {\n",
              "        text-align: right;\n",
              "    }\n",
              "</style>\n",
              "<table border=\"1\" class=\"dataframe\">\n",
              "  <thead>\n",
              "    <tr style=\"text-align: right;\">\n",
              "      <th></th>\n",
              "      <th>index</th>\n",
              "      <th>lem</th>\n",
              "      <th>pos</th>\n",
              "      <th>counts</th>\n",
              "    </tr>\n",
              "  </thead>\n",
              "  <tbody>\n",
              "  </tbody>\n",
              "</table>\n",
              "</div>"
            ],
            "text/plain": [
              "Empty DataFrame\n",
              "Columns: [index, lem, pos, counts]\n",
              "Index: []"
            ]
          },
          "metadata": {
            "tags": []
          },
          "execution_count": 14
        }
      ]
    },
    {
      "cell_type": "markdown",
      "metadata": {
        "id": "9_xKAkbHzFbQ",
        "colab_type": "text"
      },
      "source": [
        "### Frequency plot grouped by POS type"
      ]
    },
    {
      "cell_type": "code",
      "metadata": {
        "id": "5VPJaEw3ii_S",
        "colab_type": "code",
        "colab": {
          "base_uri": "https://localhost:8080/",
          "height": 1000
        },
        "outputId": "81208070-d78d-4d98-dc60-a5b045112a61"
      },
      "source": [
        "source = df_words[df_words.counts>1].sort_values(by=['counts'], ascending=False)\n",
        "alt.Chart(source).mark_bar(opacity=0.7).encode(\n",
        "    y=alt.Y('lem:N',sort= {\"op\": \"distinct\", \"field\": \"sort_order:O\"}),\n",
        "    x=alt.X('counts:Q', stack=None),\n",
        "    color=\"pos:N\",\n",
        ")"
      ],
      "execution_count": 17,
      "outputs": [
        {
          "output_type": "execute_result",
          "data": {
            "text/plain": [
              "alt.Chart(...)"
            ],
            "text/html": [
              "\n",
              "<div id=\"altair-viz-ec8189f531894ebdbf1fe3e81d623410\"></div>\n",
              "<script type=\"text/javascript\">\n",
              "  (function(spec, embedOpt){\n",
              "    let outputDiv = document.currentScript.previousElementSibling;\n",
              "    if (outputDiv.id !== \"altair-viz-ec8189f531894ebdbf1fe3e81d623410\") {\n",
              "      outputDiv = document.getElementById(\"altair-viz-ec8189f531894ebdbf1fe3e81d623410\");\n",
              "    }\n",
              "    const paths = {\n",
              "      \"vega\": \"https://cdn.jsdelivr.net/npm//vega@5?noext\",\n",
              "      \"vega-lib\": \"https://cdn.jsdelivr.net/npm//vega-lib?noext\",\n",
              "      \"vega-lite\": \"https://cdn.jsdelivr.net/npm//vega-lite@4.8.1?noext\",\n",
              "      \"vega-embed\": \"https://cdn.jsdelivr.net/npm//vega-embed@6?noext\",\n",
              "    };\n",
              "\n",
              "    function loadScript(lib) {\n",
              "      return new Promise(function(resolve, reject) {\n",
              "        var s = document.createElement('script');\n",
              "        s.src = paths[lib];\n",
              "        s.async = true;\n",
              "        s.onload = () => resolve(paths[lib]);\n",
              "        s.onerror = () => reject(`Error loading script: ${paths[lib]}`);\n",
              "        document.getElementsByTagName(\"head\")[0].appendChild(s);\n",
              "      });\n",
              "    }\n",
              "\n",
              "    function showError(err) {\n",
              "      outputDiv.innerHTML = `<div class=\"error\" style=\"color:red;\">${err}</div>`;\n",
              "      throw err;\n",
              "    }\n",
              "\n",
              "    function displayChart(vegaEmbed) {\n",
              "      vegaEmbed(outputDiv, spec, embedOpt)\n",
              "        .catch(err => showError(`Javascript Error: ${err.message}<br>This usually means there's a typo in your chart specification. See the javascript console for the full traceback.`));\n",
              "    }\n",
              "\n",
              "    if(typeof define === \"function\" && define.amd) {\n",
              "      requirejs.config({paths});\n",
              "      require([\"vega-embed\"], displayChart, err => showError(`Error loading script: ${err.message}`));\n",
              "    } else if (typeof vegaEmbed === \"function\") {\n",
              "      displayChart(vegaEmbed);\n",
              "    } else {\n",
              "      loadScript(\"vega\")\n",
              "        .then(() => loadScript(\"vega-lite\"))\n",
              "        .then(() => loadScript(\"vega-embed\"))\n",
              "        .catch(showError)\n",
              "        .then(() => displayChart(vegaEmbed));\n",
              "    }\n",
              "  })({\"config\": {\"view\": {\"continuousWidth\": 400, \"continuousHeight\": 300}}, \"data\": {\"name\": \"data-3b3357729b1ef08db815e7e537b1b600\"}, \"mark\": {\"type\": \"bar\", \"opacity\": 0.7}, \"encoding\": {\"color\": {\"type\": \"nominal\", \"field\": \"pos\"}, \"x\": {\"type\": \"quantitative\", \"field\": \"counts\", \"stack\": null}, \"y\": {\"type\": \"nominal\", \"field\": \"lem\", \"sort\": {\"op\": \"distinct\", \"field\": \"sort_order:O\"}}}, \"$schema\": \"https://vega.github.io/schema/vega-lite/v4.8.1.json\", \"datasets\": {\"data-3b3357729b1ef08db815e7e537b1b600\": [{\"lem\": \"description\", \"pos\": \"NN\", \"counts\": 217}, {\"lem\": \"repository\", \"pos\": \"NN\", \"counts\": 182}, {\"lem\": \"language\", \"pos\": \"NN\", \"counts\": 122}, {\"lem\": \"detail\", \"pos\": \"NN\", \"counts\": 120}, {\"lem\": \"english\", \"pos\": \"JJ\", \"counts\": 116}, {\"lem\": \"aid\", \"pos\": \"NN\", \"counts\": 106}, {\"lem\": \"find\", \"pos\": \"VB\", \"counts\": 106}, {\"lem\": \"part\", \"pos\": \"NN\", \"counts\": 67}, {\"lem\": \"jewish\", \"pos\": \"NN\", \"counts\": 65}, {\"lem\": \"script\", \"pos\": \"NN\", \"counts\": 64}, {\"lem\": \"york\", \"pos\": \"NN\", \"counts\": 63}, {\"lem\": \"new\", \"pos\": \"JJ\", \"counts\": 63}, {\"lem\": \"note\", \"pos\": \"NN\", \"counts\": 62}, {\"lem\": \"united\", \"pos\": \"JJ\", \"counts\": 61}, {\"lem\": \"historical\", \"pos\": \"JJ\", \"counts\": 61}, {\"lem\": \"society\", \"pos\": \"NN\", \"counts\": 61}, {\"lem\": \"contact\", \"pos\": \"NN\", \"counts\": 60}, {\"lem\": \"state\", \"pos\": \"NN\", \"counts\": 60}, {\"lem\": \"http\", \"pos\": \"NN\", \"counts\": 60}, {\"lem\": \"ajhsorg\", \"pos\": \"NN\", \"counts\": 60}, {\"lem\": \"inquiry\", \"pos\": \"NN\", \"counts\": 60}, {\"lem\": \"american\", \"pos\": \"JJ\", \"counts\": 60}, {\"lem\": \"cjhorg\", \"pos\": \"NN\", \"counts\": 60}, {\"lem\": \"west\", \"pos\": \"NN\", \"counts\": 60}, {\"lem\": \"title\", \"pos\": \"NN\", \"counts\": 60}, {\"lem\": \"author\", \"pos\": \"NN\", \"counts\": 60}, {\"lem\": \"date\", \"pos\": \"NN\", \"counts\": 60}, {\"lem\": \"status\", \"pos\": \"NN\", \"counts\": 60}, {\"lem\": \"street\", \"pos\": \"NN\", \"counts\": 60}, {\"lem\": \"guide\", \"pos\": \"NN\", \"counts\": 59}, {\"lem\": \"latin\", \"pos\": \"NN\", \"counts\": 56}, {\"lem\": \"write\", \"pos\": \"VB\", \"counts\": 50}, {\"lem\": \"create\", \"pos\": \"VB\", \"counts\": 48}, {\"lem\": \"marceadajhsxsl\", \"pos\": \"NN\", \"counts\": 47}, {\"lem\": \"statement\", \"pos\": \"NN\", \"counts\": 37}, {\"lem\": \"progress\", \"pos\": \"NN\", \"counts\": 33}, {\"lem\": \"revision\", \"pos\": \"NN\", \"counts\": 32}, {\"lem\": \"paper\", \"pos\": \"NN\", \"counts\": 30}, {\"lem\": \"undated\", \"pos\": \"JJ\", \"counts\": 28}, {\"lem\": \"archive\", \"pos\": \"NN\", \"counts\": 28}, {\"lem\": \"standard\", \"pos\": \"NN\", \"counts\": 27}, {\"lem\": \"content\", \"pos\": \"NN\", \"counts\": 27}, {\"lem\": \"describe\", \"pos\": \"VB\", \"counts\": 27}, {\"lem\": \"complete\", \"pos\": \"VB\", \"counts\": 27}, {\"lem\": \"cleanup\", \"pos\": \"NN\", \"counts\": 27}, {\"lem\": \"rule\", \"pos\": \"NN\", \"counts\": 27}, {\"lem\": \"migration\", \"pos\": \"NN\", \"counts\": 27}, {\"lem\": \"ehyman\", \"pos\": \"NN\", \"counts\": 26}, {\"lem\": \"postaspace\", \"pos\": \"NN\", \"counts\": 26}, {\"lem\": \"april\", \"pos\": \"NN\", \"counts\": 26}, {\"lem\": \"june\", \"pos\": \"NN\", \"counts\": 20}, {\"lem\": \"material\", \"pos\": \"NN\", \"counts\": 15}, {\"lem\": \"collection\", \"pos\": \"NN\", \"counts\": 15}, {\"lem\": \"container\", \"pos\": \"NN\", \"counts\": 12}, {\"lem\": \"family\", \"pos\": \"NN\", \"counts\": 11}, {\"lem\": \"information\", \"pos\": \"NN\", \"counts\": 11}, {\"lem\": \"consolidated\", \"pos\": \"JJ\", \"counts\": 10}, {\"lem\": \"process\", \"pos\": \"VB\", \"counts\": 10}, {\"lem\": \"mixed\", \"pos\": \"JJ\", \"counts\": 10}, {\"lem\": \"storage\", \"pos\": \"NN\", \"counts\": 10}, {\"lem\": \"folder\", \"pos\": \"NN\", \"counts\": 10}, {\"lem\": \"box\", \"pos\": \"NN\", \"counts\": 10}, {\"lem\": \"levy\", \"pos\": \"NN\", \"counts\": 10}, {\"lem\": \"physical\", \"pos\": \"JJ\", \"counts\": 10}, {\"lem\": \"make\", \"pos\": \"VB\", \"counts\": 8}, {\"lem\": \"possible\", \"pos\": \"JJ\", \"counts\": 8}, {\"lem\": \"undetermined\", \"pos\": \"JJ\", \"counts\": 8}, {\"lem\": \"code\", \"pos\": \"NN\", \"counts\": 8}, {\"lem\": \"leon\", \"pos\": \"NN\", \"counts\": 8}, {\"lem\": \"initiative\", \"pos\": \"NN\", \"counts\": 7}, {\"lem\": \"elder\", \"pos\": \"NN\", \"counts\": 6}, {\"lem\": \"add\", \"pos\": \"VB\", \"counts\": 6}, {\"lem\": \"ead\", \"pos\": \"NN\", \"counts\": 6}, {\"lem\": \"remove\", \"pos\": \"VB\", \"counts\": 6}, {\"lem\": \"record\", \"pos\": \"NN\", \"counts\": 6}, {\"lem\": \"tanya\", \"pos\": \"NN\", \"counts\": 6}, {\"lem\": \"edition\", \"pos\": \"NN\", \"counts\": 5}, {\"lem\": \"update\", \"pos\": \"VB\", \"counts\": 5}, {\"lem\": \"july\", \"pos\": \"NN\", \"counts\": 5}, {\"lem\": \"foundation\", \"pos\": \"NN\", \"counts\": 5}, {\"lem\": \"derive\", \"pos\": \"VB\", \"counts\": 5}, {\"lem\": \"version\", \"pos\": \"NN\", \"counts\": 5}, {\"lem\": \"processing\", \"pos\": \"NN\", \"counts\": 5}, {\"lem\": \"archival\", \"pos\": \"NN\", \"counts\": 4}, {\"lem\": \"entity\", \"pos\": \"NN\", \"counts\": 4}, {\"lem\": \"resource\", \"pos\": \"NN\", \"counts\": 4}, {\"lem\": \"michael\", \"pos\": \"NN\", \"counts\": 4}, {\"lem\": \"rachel\", \"pos\": \"NN\", \"counts\": 4}, {\"lem\": \"sponsor\", \"pos\": \"NN\", \"counts\": 4}, {\"lem\": \"conference\", \"pos\": \"NN\", \"counts\": 4}, {\"lem\": \"tutera\", \"pos\": \"NN\", \"counts\": 3}, {\"lem\": \"alexandra\", \"pos\": \"NN\", \"counts\": 3}, {\"lem\": \"germany\", \"pos\": \"NN\", \"counts\": 3}, {\"lem\": \"holocaust\", \"pos\": \"NN\", \"counts\": 3}, {\"lem\": \"claim\", \"pos\": \"NN\", \"counts\": 3}, {\"lem\": \"montalbano\", \"pos\": \"NN\", \"counts\": 3}, {\"lem\": \"autograph\", \"pos\": \"NN\", \"counts\": 3}, {\"lem\": \"cjh\", \"pos\": \"NN\", \"counts\": 3}, {\"lem\": \"january\", \"pos\": \"NN\", \"counts\": 3}, {\"lem\": \"simon\", \"pos\": \"NN\", \"counts\": 2}, {\"lem\": \"etc\", \"pos\": \"NN\", \"counts\": 2}, {\"lem\": \"deprecate\", \"pos\": \"VB\", \"counts\": 2}, {\"lem\": \"august\", \"pos\": \"NN\", \"counts\": 2}, {\"lem\": \"declaration\", \"pos\": \"NN\", \"counts\": 2}, {\"lem\": \"white\", \"pos\": \"JJ\", \"counts\": 2}, {\"lem\": \"council\", \"pos\": \"NN\", \"counts\": 2}, {\"lem\": \"yakov\", \"pos\": \"NN\", \"counts\": 2}, {\"lem\": \"estate\", \"pos\": \"NN\", \"counts\": 2}, {\"lem\": \"change\", \"pos\": \"VB\", \"counts\": 2}, {\"lem\": \"convert\", \"pos\": \"VB\", \"counts\": 2}, {\"lem\": \"greenberg\", \"pos\": \"NN\", \"counts\": 2}, {\"lem\": \"element\", \"pos\": \"NN\", \"counts\": 2}, {\"lem\": \"sklar\", \"pos\": \"NN\", \"counts\": 2}, {\"lem\": \"genealogy\", \"pos\": \"NN\", \"counts\": 2}, {\"lem\": \"doctype\", \"pos\": \"NN\", \"counts\": 2}, {\"lem\": \"list\", \"pos\": \"NN\", \"counts\": 2}, {\"lem\": \"aaron\", \"pos\": \"NN\", \"counts\": 2}, {\"lem\": \"llstraussxml\", \"pos\": \"NN\", \"counts\": 2}, {\"lem\": \"mark\", \"pos\": \"NN\", \"counts\": 2}, {\"lem\": \"lawrence\", \"pos\": \"NN\", \"counts\": 2}, {\"lem\": \"revise\", \"pos\": \"VB\", \"counts\": 2}, {\"lem\": \"louislipskyxml\", \"pos\": \"NN\", \"counts\": 2}, {\"lem\": \"november\", \"pos\": \"NN\", \"counts\": 2}, {\"lem\": \"louis\", \"pos\": \"NN\", \"counts\": 2}, {\"lem\": \"inventory\", \"pos\": \"NN\", \"counts\": 2}, {\"lem\": \"october\", \"pos\": \"NN\", \"counts\": 2}, {\"lem\": \"henry\", \"pos\": \"NN\", \"counts\": 2}, {\"lem\": \"judah\", \"pos\": \"NN\", \"counts\": 2}, {\"lem\": \"illich\", \"pos\": \"NN\", \"counts\": 2}, {\"lem\": \"norman\", \"pos\": \"NN\", \"counts\": 2}, {\"lem\": \"hidden\", \"pos\": \"NN\", \"counts\": 2}, {\"lem\": \"attribute\", \"pos\": \"NN\", \"counts\": 2}]}}, {\"mode\": \"vega-lite\"});\n",
              "</script>"
            ]
          },
          "metadata": {
            "tags": []
          },
          "execution_count": 17
        }
      ]
    },
    {
      "cell_type": "markdown",
      "metadata": {
        "id": "y_5ZFVT9zwZ_",
        "colab_type": "text"
      },
      "source": [
        "# Machine Learning Text Generation Model"
      ]
    },
    {
      "cell_type": "markdown",
      "metadata": {
        "id": "I1rpz54iTzFt",
        "colab_type": "text"
      },
      "source": [
        "While parsing PDFs the most common thing to see are page numbers and words that are stucktogetherlikethis. To handle this and to make our training data more robust we use a package called word ninja that uses english corpuses (corpii?) and some fancy math to split them up correctly. We also remove all numbers that are not spelled out in the text."
      ]
    },
    {
      "cell_type": "code",
      "metadata": {
        "id": "sLR4TL9jscX8",
        "colab_type": "code",
        "colab": {
          "base_uri": "https://localhost:8080/",
          "height": 35
        },
        "outputId": "b59c29cc-3390-4d7b-fdb2-a7f61ab9a741"
      },
      "source": [
        "#collapse-hide\n",
        "clean_text_for_training = clean_plain_text_for_training(stringV)\n",
        "file = \" \".join(clean_text_for_training)\n"
      ],
      "execution_count": 18,
      "outputs": [
        {
          "output_type": "stream",
          "text": [
            "60\n"
          ],
          "name": "stdout"
        }
      ]
    },
    {
      "cell_type": "code",
      "metadata": {
        "id": "M3ASS9lKs04s",
        "colab_type": "code",
        "colab": {
          "base_uri": "https://localhost:8080/",
          "height": 72
        },
        "outputId": "8438a222-162f-4bb6-d95c-5c0d3e7f9ae8"
      },
      "source": [
        "x_data, X, y, chars = find_patterns(file)"
      ],
      "execution_count": 19,
      "outputs": [
        {
          "output_type": "stream",
          "text": [
            "Total number of characters: 32060\n",
            "Total vocab: 37\n",
            "Total Patterns: 31960\n"
          ],
          "name": "stdout"
        }
      ]
    },
    {
      "cell_type": "markdown",
      "metadata": {
        "id": "y8E1tXzpOl7v",
        "colab_type": "text"
      },
      "source": [
        "## Setting Paramaters and Training\n",
        "\n",
        "JATA comes built in with a params function but you can feel free to override them in the custom function if you like! Set the my_own_params flag to True if you want this setting!\n",
        "\n",
        "***FYI - This can take some time (Sometimes up to an hour using the built in settings), so grab a snack or take a nap!***\n",
        "\n",
        "Reducing the epochs will reduce the time it takes to train however it will also reduce the robustness of your output!"
      ]
    },
    {
      "cell_type": "code",
      "metadata": {
        "id": "BGqX2P4RIXyr",
        "colab_type": "code",
        "colab": {}
      },
      "source": [
        "my_own_params = False"
      ],
      "execution_count": 20,
      "outputs": []
    },
    {
      "cell_type": "code",
      "metadata": {
        "id": "-oTdix6EHuIg",
        "colab_type": "code",
        "colab": {
          "base_uri": "https://localhost:8080/",
          "height": 437
        },
        "outputId": "881b7b42-0401-46f6-eb4a-161fd6e256a6"
      },
      "source": [
        "def set_model_params_custom(X, y):\n",
        "    model = Sequential()\n",
        "    model.add(LSTM(256, input_shape=(X.shape[1], X.shape[2]), return_sequences=True))\n",
        "    model.add(Dropout(0.2))\n",
        "    model.add(LSTM(256, return_sequences=True))\n",
        "    model.add(Dropout(0.2))\n",
        "    model.add(LSTM(128))\n",
        "    model.add(Dropout(0.2))\n",
        "    model.add(Dense(y.shape[1], activation='softmax'))\n",
        "    model.compile(loss='categorical_crossentropy', optimizer='adam')\n",
        "    filepath = \"model_weights_saved.hdf5\"\n",
        "    checkpoint = ModelCheckpoint(filepath, monitor='loss', verbose=1, save_best_only=True, mode='min')\n",
        "    desired_callbacks = [checkpoint]\n",
        "    model.fit(X, y, epochs=1, batch_size=200, callbacks=desired_callbacks)\n",
        "    return model\n",
        "\n",
        "import time\n",
        "\n",
        "start = time.time()\n",
        "if my_own_params:\n",
        "  model = set_model_params_custom(X,y)\n",
        "else:\n",
        "  model = set_model_params(X,y)\n",
        "end = time.time()\n",
        "print(\"Time Elapsed:\")\n",
        "print(end - start)"
      ],
      "execution_count": 21,
      "outputs": [
        {
          "output_type": "stream",
          "text": [
            "Epoch 1/5\n",
            "160/160 [==============================] - ETA: 0s - loss: 3.0644\n",
            "Epoch 00001: loss improved from inf to 3.06437, saving model to model_weights_saved.hdf5\n",
            "160/160 [==============================] - 479s 3s/step - loss: 3.0644\n",
            "Epoch 2/5\n",
            "160/160 [==============================] - ETA: 0s - loss: 3.0125\n",
            "Epoch 00002: loss improved from 3.06437 to 3.01255, saving model to model_weights_saved.hdf5\n",
            "160/160 [==============================] - 479s 3s/step - loss: 3.0125\n",
            "Epoch 3/5\n",
            "160/160 [==============================] - ETA: 0s - loss: 2.9992\n",
            "Epoch 00003: loss improved from 3.01255 to 2.99917, saving model to model_weights_saved.hdf5\n",
            "160/160 [==============================] - 479s 3s/step - loss: 2.9992\n",
            "Epoch 4/5\n",
            "160/160 [==============================] - ETA: 0s - loss: 2.9298\n",
            "Epoch 00004: loss improved from 2.99917 to 2.92984, saving model to model_weights_saved.hdf5\n",
            "160/160 [==============================] - 472s 3s/step - loss: 2.9298\n",
            "Epoch 5/5\n",
            "160/160 [==============================] - ETA: 0s - loss: 2.6665\n",
            "Epoch 00005: loss improved from 2.92984 to 2.66646, saving model to model_weights_saved.hdf5\n",
            "160/160 [==============================] - 475s 3s/step - loss: 2.6665\n",
            "Time Elapsed:\n",
            "2405.342127799988\n"
          ],
          "name": "stdout"
        }
      ]
    },
    {
      "cell_type": "markdown",
      "metadata": {
        "id": "Qqhj41bVO0f-",
        "colab_type": "text"
      },
      "source": [
        "## Loading the Model and Generating Text"
      ]
    },
    {
      "cell_type": "markdown",
      "metadata": {
        "id": "7_47mKBAO0SI",
        "colab_type": "text"
      },
      "source": [
        "## Getting Some Output"
      ]
    },
    {
      "cell_type": "code",
      "metadata": {
        "id": "TW6XpVfIS-0_",
        "colab_type": "code",
        "colab": {}
      },
      "source": [
        "filepath = \"model_weights_saved.hdf5\"\n"
      ],
      "execution_count": 22,
      "outputs": []
    },
    {
      "cell_type": "code",
      "metadata": {
        "id": "RGczmbsCnEeq",
        "colab_type": "code",
        "colab": {
          "base_uri": "https://localhost:8080/",
          "height": 292
        },
        "outputId": "add38c4c-8364-488a-d470-e59b6cb41bf2"
      },
      "source": [
        "print(what_does_the_robot_say(x_data,model, chars,filepath))"
      ],
      "execution_count": 24,
      "outputs": [
        {
          "output_type": "stream",
          "text": [
            "ry details part american jewish historical society repository http j hs org contact  west  th st\n",
            "s   p  status completed author finding aid created marc  ead j hs xsl date  descripti\n",
            " papers undated    p  status progress author finding aid created marc  ead j hs xsl \n",
            "ety repository http j hs org contact  west  th street new york ny  united states inquiries \n",
            "eanup physical storage information container consolidated box p  folder p  mixed materials repos\n",
            "uthor finding aid michael mont albano part cj h holocaust resource initiative made possible conferen\n",
            "ing aid created marc  ead j hs xsl date  language description english script description latin \n",
            "ndated   p  status completed author processed yakov ill ich sk lar date  description \n",
            "scription english script description latin language description note finding aid written english rev\n",
            "  status completed author finding aid created marc  ead j hs xsl date  description rules\n",
            "pt description latin language description note finding aid written english repository details reposi\n",
            "up repository details repository details part american jewish historical society repository http j h\n",
            "ry details part american jewish historical society repository http j hs org contact west th sts p status completed author finding aid created marc ead j hs xsl date descripti papers undated p status progress author finding aid created marc ead j hs xsl ety repository http j hs org contact west th street new york ny united states inquiries eanup physical storage information container consolidated box p folder p mixed materials reposuthor finding aid michael mont albano part cj h holocaust resource initiative made possible conferening aid created marc ead j hs xsl date language description english script description latin ndated p status completed author processed yakov ill ich sk lar date description scription english script description latin language description note finding aid written english rev status completed author finding aid created marc ead j hs xsl date description rulespt description latin language description note finding aid written english repository details reposiup repository details repository details part american jewish historical society repository http j h\n",
            "part historical society repository j contact west th p status author finding aid marc j date undated p status progress author finding aid marc j repository j contact west th street new york united physical storage information container consolidated box p folder p mixed finding aid part h holocaust resource initiative made possible aid marc j date language description script description p status author ill ich lar date description scription script description language description note finding aid written rev status author finding aid marc j date description description language description note finding aid written repository repository repository part historical society repository j h\n"
          ],
          "name": "stdout"
        }
      ]
    },
    {
      "cell_type": "markdown",
      "metadata": {
        "id": "fu1-XX0cqnqO",
        "colab_type": "text"
      },
      "source": [
        "Play around with the training data and model params until you find your desired output!"
      ]
    }
  ]
}